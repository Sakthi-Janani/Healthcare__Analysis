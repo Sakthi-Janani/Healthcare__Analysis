{
 "cells": [
  {
   "cell_type": "code",
   "execution_count": null,
   "metadata": {},
   "outputs": [],
   "source": [
    "! pip install sqlalchemy pyodbc"
   ]
  },
  {
   "cell_type": "code",
   "execution_count": 2,
   "metadata": {},
   "outputs": [],
   "source": [
    "import sqlalchemy\n",
    "import pandas as pd\n",
    "import numpy as np\n",
    "from sklearn.preprocessing import StandardScaler\n",
    "from sklearn.ensemble import IsolationForest,RandomForestClassifier\n",
    "import matplotlib.pyplot as plt\n",
    "import seaborn as sns\n",
    "import textwrap\n",
    "from textwrap import wrap\n",
    "from scipy.stats import zscore\n",
    "from sklearn.model_selection import train_test_split\n",
    "from sklearn.metrics import classification_report, accuracy_score"
   ]
  },
  {
   "cell_type": "code",
   "execution_count": 3,
   "metadata": {},
   "outputs": [],
   "source": [
    "server = r\"SAKS\\SQLEXPRESS\"\n",
    "database = \"HEALTHCARE_\"\n",
    "username = \"Saks\"\n",
    "password = \"Sql@2025\""
   ]
  },
  {
   "cell_type": "code",
   "execution_count": 4,
   "metadata": {},
   "outputs": [],
   "source": [
    "# Creating SQLAlchemy engine using PyODBC\n",
    "engine = sqlalchemy.create_engine(f\"mssql+pyodbc://{server}/{database}?driver=SQL+Server&trusted_connection=yes\") "
   ]
  },
  {
   "cell_type": "code",
   "execution_count": null,
   "metadata": {},
   "outputs": [],
   "source": [
    "# Fetching all table names\n",
    "query = \"SELECT TABLE_NAME FROM INFORMATION_SCHEMA.TABLES WHERE TABLE_TYPE = 'BASE TABLE'\"\n",
    "df_tables = pd.read_sql(query, engine)\n",
    "\n",
    "print(df_tables)"
   ]
  },
  {
   "cell_type": "code",
   "execution_count": 103,
   "metadata": {},
   "outputs": [],
   "source": [
    "# Fetching data from a specific table\n",
    "table_name = \"Medicare_Charge_Inpatient\"  \n",
    "Medicare_Charge_Inpatient = pd.read_sql(f\"SELECT * FROM {table_name}\", engine)\n",
    "\n",
    "table_name = \"Medicare_Charge_Outpatient\"  \n",
    "Medicare_Charge_Outpatient = pd.read_sql(f\"SELECT * FROM {table_name}\", engine)\n",
    "\n",
    "table_name = \"Medicare_Provider_Charge_Inpatient\"  \n",
    "Medicare_Provider_Charge_Inpatient = pd.read_sql(f\"SELECT * FROM {table_name}\", engine)\n",
    "\n",
    "table_name = \"Medicare_Provider_Charge_Outpatient\"  \n",
    "Medicare_Provider_Charge_Outpatient = pd.read_sql(f\"SELECT * FROM {table_name}\", engine)\n",
    "\n",
    "table_name = \"Patient_history_samp\"  \n",
    "Patient_history_samp = pd.read_sql(f\"SELECT * FROM {table_name}\", engine)\n",
    "\n",
    "table_name = \"Review_patient_history_samp\"  \n",
    "Review_patient_history_samp = pd.read_sql(f\"SELECT * FROM {table_name}\", engine)\n",
    "\n",
    "table_name = \"Review_transaction_coo\"  \n",
    "Review_transaction_coo = pd.read_sql(f\"SELECT * FROM {table_name}\", engine)\n",
    "\n",
    "table_name = \"Transaction_coo\"  \n",
    "Transaction_coo = pd.read_sql(f\"SELECT * FROM {table_name}\", engine)\n",
    "\n",
    "table_name = \"DRGCodes_Global_proc_id_Mapping\"  \n",
    "Global_proc_id = pd.read_sql(f\"SELECT * FROM {table_name}\", engine)"
   ]
  },
  {
   "cell_type": "code",
   "execution_count": 319,
   "metadata": {},
   "outputs": [
    {
     "data": {
      "text/plain": [
       "Index(['S_No', 'global_proc_id', 'DRG_Codes'], dtype='object')"
      ]
     },
     "execution_count": 319,
     "metadata": {},
     "output_type": "execute_result"
    }
   ],
   "source": [
    "Global_proc_id.columns"
   ]
  },
  {
   "cell_type": "code",
   "execution_count": 7,
   "metadata": {},
   "outputs": [],
   "source": [
    "Medicare_Provider_Charge_Inpatient.rename(columns={\"Average_Total_Payments\":\"Average_Total_Payments_In\",\"Provider_Name\" : \"Provider_Name_In\",\"Provider_Street_Address\":\"Provider_Street_Address_In\",\"Provider_City\":\"Provider_City_In\",\"Provider_State\":\"Provider_State_In\",\"Provider_Zip_Code\":\"Provider_Zip_Code_In\",\"Hospital_Referral_Region_HRR_Description\":\"Hospital_Referral_Region_HRR_Description_In\"},inplace=True)\n",
    "\n",
    "Medicare_Provider_Charge_Outpatient.rename(columns={\"Average_Total_Payments\":\"Average_Total_Payments_Out\",\"Provider_Name\" : \"Provider_Name_Out\",\"Provider_Street_Address\":\"Provider_Street_Address_Out\",\"Provider_City\":\"Provider_City_Out\",\"Provider_State\":\"Provider_State_Out\",\"Provider_Zip_Code\":\"Provider_Zip_Code_Out\",\"Hospital_Referral_Region_HRR_Description\":\"Hospital_Referral_Region_HRR_Description_Out\"},inplace=True)"
   ]
  },
  {
   "cell_type": "code",
   "execution_count": 8,
   "metadata": {},
   "outputs": [],
   "source": [
    "# Merge datasets on Provider_Id\n",
    "merged_data = Medicare_Provider_Charge_Inpatient.merge(Medicare_Provider_Charge_Outpatient, on=\"Provider_Id\")"
   ]
  },
  {
   "cell_type": "code",
   "execution_count": null,
   "metadata": {},
   "outputs": [],
   "source": [
    "# display all the column\n",
    "pd.set_option('display.max_columns', None)\n",
    "merged_data.head(3)"
   ]
  },
  {
   "cell_type": "markdown",
   "metadata": {},
   "source": [
    "Identify providers that overcharge for certain procedures or regions where procedures are too expensive."
   ]
  },
  {
   "cell_type": "markdown",
   "metadata": {},
   "source": [
    "Highest Cost Variation"
   ]
  },
  {
   "cell_type": "markdown",
   "metadata": {},
   "source": [
    "Inpatient"
   ]
  },
  {
   "cell_type": "code",
   "execution_count": null,
   "metadata": {},
   "outputs": [],
   "source": [
    "cost_variance_inpatient = Medicare_Provider_Charge_Inpatient.groupby(\"DRG_Definition\", observed=True)[\"Average_Covered_Charges\"].std().reset_index()\n",
    "most_variable_procedure = cost_variance_inpatient.rename(columns={'Average_Covered_Charges':'Cost_variation'}).nlargest(5,\"Cost_variation\")\n",
    "\n",
    "print(\"Most variable procedure Inpatient: \\n\")\n",
    "most_variable_procedure\n",
    "\n",
    "# answer : 870 - SEPTICEMIA OR SEVERE SEPSIS W MV 96+ HOURS has a std of 90,553.98, meaning that the total payments for this procedure vary, on average, by 90,553.98 from the mean payment for this procedure."
   ]
  },
  {
   "cell_type": "code",
   "execution_count": null,
   "metadata": {},
   "outputs": [],
   "source": [
    "# Visualization\n",
    "plt.figure(figsize=(8, 4))\n",
    "ax = sns.stripplot(\n",
    "    x=\"Cost_variation\", \n",
    "    y=\"DRG_Definition\", \n",
    "    hue=\"DRG_Definition\", \n",
    "    data=most_variable_procedure, \n",
    "    size=10, \n",
    "    palette=\"magma\"\n",
    ")\n",
    "\n",
    "plt.xlabel(\"Standard Deviation of Covered Charges ($)\", fontsize=12)\n",
    "plt.ylabel(\"DRG Definition\", fontsize=12)\n",
    "plt.title(\"Top 5 Procedures with Highest Cost Variability (Inpatient)\", fontsize=14)\n",
    "\n",
    "# **Wrap Y-axis labels for readability**\n",
    "wrapped_labels = [textwrap.fill(label, width=30) for label in most_variable_procedure[\"DRG_Definition\"]]\n",
    "\n",
    "# **Manually set wrapped labels by adjusting tick positions**\n",
    "ax.set_yticks(range(len(wrapped_labels)))  # Set tick positions manually\n",
    "ax.set_yticklabels(wrapped_labels)\n",
    "\n",
    "plt.show()\n"
   ]
  },
  {
   "cell_type": "markdown",
   "metadata": {},
   "source": [
    "Outpatient"
   ]
  },
  {
   "cell_type": "code",
   "execution_count": null,
   "metadata": {},
   "outputs": [],
   "source": [
    "cost_variance_outpatient= Medicare_Provider_Charge_Outpatient.groupby(\"APC\", observed=True)[\"Average_Estimated_Submitted_Charges\"].std().reset_index()\n",
    "\n",
    "most_variable_procedure_out = cost_variance_outpatient.rename(columns={'Average_Estimated_Submitted_Charges':'Cost_variation'}).nlargest(5,\"Cost_variation\")\n",
    "\n",
    "print(\"Most variable procedure Outpatient: \\n\")\n",
    "most_variable_procedure_out"
   ]
  },
  {
   "cell_type": "code",
   "execution_count": null,
   "metadata": {},
   "outputs": [],
   "source": [
    "# Visualization\n",
    "plt.figure(figsize=(8, 4))\n",
    "ax = sns.stripplot(\n",
    "    x=\"Cost_variation\", \n",
    "    y=\"APC\", \n",
    "    hue=\"APC\", \n",
    "    data=most_variable_procedure_out, \n",
    "    size=10, \n",
    "    palette=\"magma\"\n",
    ")\n",
    "\n",
    "plt.xlabel(\"Standard Deviation of Covered Charges ($)\", fontsize=12)\n",
    "plt.ylabel(\"DRG Definition\", fontsize=12)\n",
    "plt.title(\"Top 5 Procedures with Highest Cost Variability (Outpatient)\", fontsize=14)\n",
    "\n",
    "# **Wrap Y-axis labels for readability**\n",
    "wrapped_labels = [textwrap.fill(label, width=30) for label in most_variable_procedure_out[\"APC\"]]\n",
    "\n",
    "# **Manually set wrapped labels by adjusting tick positions**\n",
    "ax.set_yticks(range(len(wrapped_labels)))  # Set tick positions manually\n",
    "ax.set_yticklabels(wrapped_labels)\n",
    "\n",
    "plt.show()\n"
   ]
  },
  {
   "cell_type": "markdown",
   "metadata": {},
   "source": [
    "Highest Cost claims by Provider"
   ]
  },
  {
   "cell_type": "markdown",
   "metadata": {},
   "source": [
    "Inpatient"
   ]
  },
  {
   "cell_type": "code",
   "execution_count": null,
   "metadata": {},
   "outputs": [],
   "source": [
    "# Finding the highest charge for a particular procedure \n",
    "procedure_high_cost = Medicare_Provider_Charge_Inpatient.groupby(\"DRG_Definition\")['Average_Covered_Charges'].max().reset_index()\n",
    "procedure_high_cost = procedure_high_cost.rename(columns={\"Average_Covered_Charges\":\"Max_average_Covered_Charges\"})\n",
    "\n",
    "procedure_high_cost"
   ]
  },
  {
   "cell_type": "code",
   "execution_count": null,
   "metadata": {},
   "outputs": [],
   "source": [
    "# merging the table to get the provider who charge the highest\n",
    "Medicare_Inpatient_merge = Medicare_Provider_Charge_Inpatient.merge(procedure_high_cost,on=\"DRG_Definition\",how = \"left\")\n",
    "Medicare_Inpatient_merge\n"
   ]
  },
  {
   "cell_type": "code",
   "execution_count": null,
   "metadata": {},
   "outputs": [],
   "source": [
    "# defining a function to flag the max_covered_charge\n",
    "def flag(patient):\n",
    "    if ((patient['Max_average_Covered_Charges']==patient['Average_Covered_Charges'])):\n",
    "        return 1\n",
    "    else:\n",
    "        return 0\n",
    "    \n",
    "Medicare_Inpatient_merge['Flag_max'] = Medicare_Inpatient_merge.apply(flag,axis=1)\n",
    "Medicare_Inpatient_merge[Medicare_Inpatient_merge['Flag_max']==1]"
   ]
  },
  {
   "cell_type": "code",
   "execution_count": null,
   "metadata": {},
   "outputs": [],
   "source": [
    "\n",
    "\n",
    "# print the Highest cost claimed by provider \n",
    "Highest_cost_claim_by_provider  = Medicare_Inpatient_merge.loc[Medicare_Inpatient_merge['Flag_max']==1,[\"DRG_Definition\",'Provider_Id',\"Max_average_Covered_Charges\"]]\n",
    "\n",
    "print(\"Highest cost claimed by provider for a particular Inpatient procedure : \\n\")\n",
    "Highest_cost_claim_by_provider"
   ]
  },
  {
   "cell_type": "code",
   "execution_count": null,
   "metadata": {},
   "outputs": [],
   "source": [
    "# Visualization\n",
    "# Ensure Provider_Id is a string\n",
    "Highest_cost_claim_by_provider[\"Provider_Id\"] = Highest_cost_claim_by_provider[\"Provider_Id\"].astype(str)\n",
    "\n",
    "# Select top 10 providers (remove duplicates if needed)\n",
    "top_providers = (\n",
    "    Highest_cost_claim_by_provider.sort_values(by=\"Max_average_Covered_Charges\", ascending=False)\n",
    "    .drop_duplicates(subset=[\"Provider_Id\"])  # Ensure unique Provider IDs\n",
    "    .head(10)\n",
    ")\n",
    "\n",
    "# Adjust figure size\n",
    "fig, ax = plt.subplots(figsize=(14, 6), dpi=100)\n",
    "\n",
    "# Create barplot with hue\n",
    "sns.barplot(\n",
    "    x=\"Max_average_Covered_Charges\", \n",
    "    y=\"Provider_Id\", \n",
    "    hue=\"Provider_Id\", \n",
    "    data=top_providers, \n",
    "    palette=\"crest\",\n",
    "    errorbar=None,\n",
    "    legend=False, \n",
    "    ax=ax\n",
    ")\n",
    "\n",
    "# Add data labels dynamically\n",
    "for index, value in enumerate(top_providers[\"Max_average_Covered_Charges\"]):\n",
    "    text_x = value - 1500 \n",
    "    text_align = 'right'\n",
    "    \n",
    "    # If bar is too short, move text outside\n",
    "    if value < top_providers[\"Max_average_Covered_Charges\"].max() * 0.15:\n",
    "        text_x = value + 500  \n",
    "        text_align = 'left'\n",
    "    \n",
    "    text_color = 'white' if text_align == 'right' else 'black'  # Ensure contrast\n",
    "\n",
    "    ax.text(text_x,  \n",
    "            index, \n",
    "            f'${value:,.0f}', \n",
    "            va='center', \n",
    "            ha=text_align, \n",
    "            fontsize=10, \n",
    "            color=text_color, \n",
    "            fontweight='bold')\n",
    "\n",
    "# Labels and Title\n",
    "plt.xlabel(\"Max_average_Covered_Charges ($)\", fontsize=12)\n",
    "plt.ylabel(\"Provider ID\", fontsize=12)\n",
    "plt.title(\"Top 10 Inpatient Providers with Highest Claimed Costs\", fontsize=14)\n",
    "\n",
    "plt.xticks(fontsize=10)\n",
    "plt.yticks(fontsize=10)\n",
    "\n",
    "# Wrap long y-axis labels\n",
    "wrapped_labels = [\"\\n\".join(wrap(str(label), 10)) for label in top_providers[\"Provider_Id\"]]\n",
    "ax.set_yticks(range(len(wrapped_labels)))  \n",
    "ax.set_yticklabels(wrapped_labels)  \n",
    "\n",
    "# Adjust layout\n",
    "plt.subplots_adjust(left=0.3, right=0.9, top=0.9, bottom=0.2)\n",
    "\n",
    "plt.show()"
   ]
  },
  {
   "cell_type": "markdown",
   "metadata": {},
   "source": [
    "Outpatient"
   ]
  },
  {
   "cell_type": "code",
   "execution_count": null,
   "metadata": {},
   "outputs": [],
   "source": [
    "# Finding the highest charge for a particular procedure \n",
    "procedure_high_cost_out = Medicare_Provider_Charge_Outpatient.groupby(\"APC\")['Average_Estimated_Submitted_Charges'].max().reset_index()\n",
    "procedure_high_cost_out = procedure_high_cost_out.rename(columns={\"Average_Estimated_Submitted_Charges\":\"Max_estimated_Charges\"})\n",
    "\n",
    "# merging the table to get the provider who charge the highest\n",
    "Medicare_Outpatient_merge= Medicare_Provider_Charge_Outpatient.merge(procedure_high_cost_out,on=\"APC\",how = \"left\")\n",
    "\n",
    "# defining a function to flag the max_covered_charge\n",
    "def flag_1(Medicare_Outpatient_merge):\n",
    "    if ((Medicare_Outpatient_merge['Max_estimated_Charges']==Medicare_Outpatient_merge['Average_Estimated_Submitted_Charges'])):\n",
    "        return 1\n",
    "    else:\n",
    "        return 0\n",
    "    \n",
    "Medicare_Outpatient_merge['Flag_max'] = Medicare_Outpatient_merge.apply(flag_1,axis=1)\n",
    "\n",
    "# print the Highest cost claimed by provider \n",
    "Highest_cost_claim_by_provider_OUT  = Medicare_Outpatient_merge.loc[Medicare_Outpatient_merge['Flag_max']==1,[\"APC\",\"Provider_Id\",\"Max_estimated_Charges\"]]\n",
    "\n",
    "print(\"Highest cost claimed by provider for a particular Outpatient procedure : \\n\")\n",
    "Highest_cost_claim_by_provider_OUT"
   ]
  },
  {
   "cell_type": "code",
   "execution_count": null,
   "metadata": {},
   "outputs": [],
   "source": [
    "# Visualization\n",
    "# Ensure Provider_Id is a string\n",
    "Highest_cost_claim_by_provider_OUT[\"Provider_Id\"] = Highest_cost_claim_by_provider_OUT[\"Provider_Id\"].astype(str)\n",
    "\n",
    "# Select top 10 providers (remove duplicates if needed)\n",
    "top_providers = (\n",
    "    Highest_cost_claim_by_provider_OUT.sort_values(by=\"Max_estimated_Charges\", ascending=False)\n",
    "    .drop_duplicates(subset=[\"Provider_Id\"])  # Ensure unique Provider IDs\n",
    "    .head(10)\n",
    ")\n",
    "\n",
    "# Adjust figure size\n",
    "fig, ax = plt.subplots(figsize=(14, 6), dpi=100)\n",
    "\n",
    "# Create barplot with hue\n",
    "sns.barplot(\n",
    "    x=\"Max_estimated_Charges\", \n",
    "    y=\"Provider_Id\", \n",
    "    hue=\"Provider_Id\", \n",
    "    data=top_providers, \n",
    "    palette=\"magma\",\n",
    "    errorbar=None,\n",
    "    legend=False, \n",
    "    ax=ax\n",
    ")\n",
    "\n",
    "# Add data labels dynamically\n",
    "for index, value in enumerate(top_providers[\"Max_estimated_Charges\"]):\n",
    "    text_x = value - 1500 \n",
    "    text_align = 'right'\n",
    "    \n",
    "    # If bar is too short, move text outside\n",
    "    if value < top_providers[\"Max_estimated_Charges\"].max() * 0.15:\n",
    "        text_x = value + 500  \n",
    "        text_align = 'left'\n",
    "    \n",
    "    text_color = 'white' if text_align == 'right' else 'black'  # Ensure contrast\n",
    "\n",
    "    ax.text(text_x,  \n",
    "            index, \n",
    "            f'${value:,.0f}', \n",
    "            va='center', \n",
    "            ha=text_align, \n",
    "            fontsize=10, \n",
    "            color=text_color, \n",
    "            fontweight='bold')\n",
    "\n",
    "# Labels and Title\n",
    "plt.xlabel(\"Max Estimated Charges ($)\", fontsize=12)\n",
    "plt.ylabel(\"Provider ID\", fontsize=12)\n",
    "plt.title(\"Top 10 Outpatient Providers with Highest Claimed Costs\", fontsize=14)\n",
    "\n",
    "plt.xticks(fontsize=10)\n",
    "plt.yticks(fontsize=10)\n",
    "\n",
    "# Wrap long y-axis labels\n",
    "wrapped_labels = [\"\\n\".join(wrap(str(label), 10)) for label in top_providers[\"Provider_Id\"]]\n",
    "ax.set_yticks(range(len(wrapped_labels)))  \n",
    "ax.set_yticklabels(wrapped_labels)  \n",
    "\n",
    "# Adjust layout\n",
    "plt.subplots_adjust(left=0.3, right=0.9, top=0.9, bottom=0.2)\n",
    "\n",
    "plt.show()\n"
   ]
  },
  {
   "cell_type": "markdown",
   "metadata": {},
   "source": [
    " Highest Cost Calim by Region"
   ]
  },
  {
   "cell_type": "markdown",
   "metadata": {},
   "source": [
    "Inpatient"
   ]
  },
  {
   "cell_type": "code",
   "execution_count": null,
   "metadata": {},
   "outputs": [],
   "source": [
    "# print the Highest cost claimed by region \n",
    "Highest_cost_claim_by_region_in  = Medicare_Inpatient_merge.loc[Medicare_Inpatient_merge['Flag_max']==1,[\"DRG_Definition\",'Hospital_Referral_Region_HRR_Description_In',\"Max_average_Covered_Charges\"]]\n",
    "\n",
    "Highest_cost_claim_by_region_in['Procedure_&_Hospital_region'] = Highest_cost_claim_by_region_in['DRG_Definition']+\" \"+\"@\"+\" \" +Highest_cost_claim_by_region_in['Hospital_Referral_Region_HRR_Description_In']\n",
    "\n",
    "print(\"Highest cost claimed by Region for a particular Inpatient Procedure : \\n\")\n",
    "Highest_cost_claim_by_region_in"
   ]
  },
  {
   "cell_type": "code",
   "execution_count": null,
   "metadata": {},
   "outputs": [],
   "source": [
    "# Sort and select top 10 regions\n",
    "top_regions = Highest_cost_claim_by_region_in.sort_values(by=\"Max_average_Covered_Charges\", ascending=False).head(10)\n",
    "\n",
    "plt.figure(figsize=(12, 6))\n",
    "ax  = sns.barplot(x=\"Max_average_Covered_Charges\", \n",
    "            y=\"Procedure_&_Hospital_region\", \n",
    "            data=top_regions, \n",
    "            hue=\"Procedure_&_Hospital_region\", \n",
    "            palette=\"viridis\",\n",
    "            legend=False,\n",
    "            errorbar=None) \n",
    "\n",
    "# Add data labels\n",
    "for index, value in enumerate(top_regions[\"Max_average_Covered_Charges\"]):\n",
    "    ax.text(value - 1000, index, f'${value:,.0f}', va='center', ha='right', fontsize=10, color='white', fontweight='bold')\n",
    "\n",
    "plt.xlabel(\"Max Estimated Charges ($)\")\n",
    "plt.ylabel(\"Procedure_&_Hospital_region\")\n",
    "plt.title(\"Top 10 Inpatient Regions with Highest Claimed Costs\")\n",
    "plt.show()\n"
   ]
  },
  {
   "cell_type": "markdown",
   "metadata": {},
   "source": [
    "Outpatient"
   ]
  },
  {
   "cell_type": "code",
   "execution_count": null,
   "metadata": {},
   "outputs": [],
   "source": [
    "# print the Highest cost claimed by region \n",
    "Highest_cost_claim_by_region  = Medicare_Outpatient_merge.loc[Medicare_Outpatient_merge['Flag_max']==1,[\"APC\",'Hospital_Referral_Region_HRR_Description_Out',\"Max_estimated_Charges\"]]\n",
    "\n",
    "Highest_cost_claim_by_region['Procedure_&_Hospital_region'] = Highest_cost_claim_by_region['APC']+\" \"+\"@\"+\" \" +Highest_cost_claim_by_region['Hospital_Referral_Region_HRR_Description_Out']\n",
    "\n",
    "print(\"Highest cost claimed by Region for a particular Outpatient Procedure : \\n\")\n",
    "Highest_cost_claim_by_region"
   ]
  },
  {
   "cell_type": "code",
   "execution_count": null,
   "metadata": {},
   "outputs": [],
   "source": [
    "# Sort and select top 10 regions\n",
    "top_regions = Highest_cost_claim_by_region.sort_values(by=\"Max_estimated_Charges\", ascending=False).head(10)\n",
    "\n",
    "plt.figure(figsize=(12, 6))\n",
    "ax  = sns.barplot(x=\"Max_estimated_Charges\", \n",
    "            y=\"Procedure_&_Hospital_region\", \n",
    "            data=top_regions, \n",
    "            hue=\"Procedure_&_Hospital_region\", \n",
    "            palette=\"viridis\",\n",
    "            legend=False,\n",
    "            errorbar=None) \n",
    "\n",
    "# Add data labels\n",
    "for index, value in enumerate(top_regions[\"Max_estimated_Charges\"]):\n",
    "    ax.text(value - 1000, index, f'${value:,.0f}', va='center', ha='right', fontsize=10, color='white', fontweight='bold')\n",
    "\n",
    "plt.xlabel(\"Max Estimated Charges ($)\")\n",
    "plt.ylabel(\"Procedure_&_Hospital_region\")\n",
    "plt.title(\"Top 10 Outpatient Regions with Highest Claimed Costs\")\n",
    "plt.show()\n"
   ]
  },
  {
   "cell_type": "markdown",
   "metadata": {},
   "source": [
    "Highest Number of Procedures and Largest Differences between Claims and Reimbursements\n"
   ]
  },
  {
   "cell_type": "markdown",
   "metadata": {},
   "source": [
    "Inpatient"
   ]
  },
  {
   "cell_type": "code",
   "execution_count": null,
   "metadata": {},
   "outputs": [],
   "source": [
    "# Calculate claim difference\n",
    "Medicare_Provider_Charge_Inpatient[\"claim_differnce\"] = Medicare_Provider_Charge_Inpatient[\"Average_Covered_Charges\"] - Medicare_Provider_Charge_Inpatient[\"Average_Total_Payments_In\"]\n",
    "\n",
    "# Procedure occurnace count\n",
    "procedure_counts = Medicare_Provider_Charge_Inpatient[\"DRG_Definition\"].value_counts().reset_index()\n",
    "procedure_counts.columns = [\"DRG_Definition\", \"procedure_count\"]\n",
    "\n",
    "# Find the max claim difference for each procedure\n",
    "max_claims = Medicare_Provider_Charge_Inpatient.groupby(\"DRG_Definition\")[\"claim_differnce\"].max().reset_index()\n",
    "max_claims.rename(columns={\"claim_differnce\": \"Max_claim_differnce\"}, inplace=True)\n",
    "\n",
    "# Merge both datasets\n",
    "final_df_in = procedure_counts.merge(max_claims, on=\"DRG_Definition\", how=\"left\")\n",
    "\n",
    "# Rank based on both criteria\n",
    "final_df_in[\"Rank\"] = final_df_in[\"procedure_count\"] * final_df_in[\"Max_claim_differnce\"]\n",
    "\n",
    "\n",
    "final_df_in.sort_values(by=\"Rank\",ascending=False)\n",
    "\n",
    "# explanation - First procedure is performed 1163 times accros all the providers and have the max claim difference of 79891.18 and accordingly it is ranks the highest because it's Frequency rate and max_claim_difference is high\n"
   ]
  },
  {
   "cell_type": "code",
   "execution_count": null,
   "metadata": {},
   "outputs": [],
   "source": [
    "# Visualization\n",
    "# Select Top 5 Procedures and Sort in Descending Order\n",
    "top_5 = final_df_in.nlargest(5, \"Rank\").sort_values(by=\"Rank\", ascending=False)\n",
    "\n",
    "# Function to wrap text\n",
    "def wrap_labels(labels, width=40):\n",
    "    return ['\\n'.join(textwrap.wrap(label, width)) for label in labels]\n",
    "\n",
    "# Apply Wrapping to DRG_Definition Names\n",
    "top_5[\"DRG_Definition\"] = wrap_labels(top_5[\"DRG_Definition\"])\n",
    "\n",
    "# Plot\n",
    "plt.figure(figsize=(10, 5))\n",
    "sns.barplot(x=\"Max_claim_differnce\", y=\"DRG_Definition\", data=top_5, hue=\"procedure_count\", palette=\"viridis\")\n",
    "\n",
    "# Labels and Title\n",
    "plt.xlabel(\"Max Claim Difference ($)\", fontsize=12)\n",
    "plt.ylabel(\"Procedure (DRG_Definition)\", fontsize=12)\n",
    "plt.title(\"Top 5 Inpatient Procedures with Highest Claim Differences (Descending Order)\", fontsize=14)\n",
    "plt.legend(title=\"Procedure Count\")\n",
    "\n",
    "# Adjust Layout to Fit Text\n",
    "plt.tight_layout()\n",
    "\n",
    "# Display\n",
    "plt.show()\n"
   ]
  },
  {
   "cell_type": "markdown",
   "metadata": {},
   "source": [
    "Outpatient"
   ]
  },
  {
   "cell_type": "code",
   "execution_count": null,
   "metadata": {},
   "outputs": [],
   "source": [
    "#  Calculate claim difference\n",
    "Medicare_Provider_Charge_Outpatient[\"claim_differnce\"] = Medicare_Provider_Charge_Outpatient[\"Average_Estimated_Submitted_Charges\"] - Medicare_Provider_Charge_Outpatient[\"Average_Total_Payments_Out\"]\n",
    "Medicare_Provider_Charge_Outpatient.head(1)\n",
    "\n",
    "# Procedure occurance count\n",
    "procedure_counts = Medicare_Provider_Charge_Outpatient[\"APC\"].value_counts().reset_index()\n",
    "procedure_counts.columns = [\"APC\", \"procedure_count\"]\n",
    "\n",
    "# Find the max claim difference for each procedure\n",
    "max_claims = Medicare_Provider_Charge_Outpatient.groupby(\"APC\")[\"claim_differnce\"].max().reset_index()\n",
    "max_claims.rename(columns={\"claim_differnce\": \"Max_claim_differnce\"}, inplace=True)\n",
    "max_claims\n",
    "\n",
    "# Merge both datasets\n",
    "final_df_out = procedure_counts.merge(max_claims, on=\"APC\", how=\"left\")\n",
    "\n",
    "# Rank based on both criteria\n",
    "final_df_out[\"Rank\"] = final_df_out[\"procedure_count\"] * final_df_out[\"Max_claim_differnce\"]\n",
    "\n",
    "final_df_out.sort_values(by=\"Rank\",ascending=False).head(5)"
   ]
  },
  {
   "cell_type": "code",
   "execution_count": null,
   "metadata": {},
   "outputs": [],
   "source": [
    "# Visualization\n",
    "# Select Top 5 Procedures and Sort in Descending Order\n",
    "top_5 = final_df_out.nlargest(5, \"Rank\").sort_values(by=\"Rank\", ascending=False)\n",
    "\n",
    "# Function to wrap text\n",
    "def wrap_labels(labels, width=40):\n",
    "    return ['\\n'.join(textwrap.wrap(label, width)) for label in labels]\n",
    "\n",
    "# Apply Wrapping to APC Names\n",
    "top_5[\"APC\"] = wrap_labels(top_5[\"APC\"])\n",
    "\n",
    "# Plot\n",
    "plt.figure(figsize=(10, 5))\n",
    "sns.barplot(x=\"Max_claim_differnce\", y=\"APC\", data=top_5, hue=\"procedure_count\", palette=\"viridis\")\n",
    "\n",
    "# Labels and Title\n",
    "plt.xlabel(\"Max Claim Difference ($)\", fontsize=12)\n",
    "plt.ylabel(\"Procedure (APC)\", fontsize=12)\n",
    "plt.title(\"Top 5 Outpatient Procedures with Highest Claim Differences (Descending Order)\", fontsize=14)\n",
    "plt.legend(title=\"Procedure Count\")\n",
    "\n",
    "# Adjust Layout to Fit Text\n",
    "plt.tight_layout()\n",
    "\n",
    "# Display\n",
    "plt.show()\n"
   ]
  },
  {
   "cell_type": "markdown",
   "metadata": {},
   "source": [
    "# Part 2"
   ]
  },
  {
   "cell_type": "markdown",
   "metadata": {},
   "source": [
    "Finding 3 Providers least like others"
   ]
  },
  {
   "cell_type": "code",
   "execution_count": 29,
   "metadata": {},
   "outputs": [],
   "source": [
    "# Select numerical features\n",
    "features = [\"Outpatient_Services\", \"Average_Estimated_Submitted_Charges\", \"Average_Total_Payments_Out\",\"Average_Total_Payments_In\",\"Total_Discharges\", \"Average_Covered_Charges\", \"Average_Medicare_Payments\"]"
   ]
  },
  {
   "cell_type": "code",
   "execution_count": null,
   "metadata": {},
   "outputs": [],
   "source": [
    "data = merged_data[[\"Provider_Id\"] + features]\n",
    "data.head(5)"
   ]
  },
  {
   "cell_type": "code",
   "execution_count": null,
   "metadata": {},
   "outputs": [],
   "source": [
    "# check for null values\n",
    "data.isna().sum()"
   ]
  },
  {
   "cell_type": "code",
   "execution_count": 32,
   "metadata": {},
   "outputs": [],
   "source": [
    "# Normalize data\n",
    "scaler = StandardScaler()\n",
    "data_scaled = scaler.fit_transform(data[features])"
   ]
  },
  {
   "cell_type": "code",
   "execution_count": 33,
   "metadata": {},
   "outputs": [],
   "source": [
    "# Apply Isolation Forest for anomaly detection\n",
    "iso_forest = IsolationForest(contamination=0.01, random_state=42)\n",
    "anomaly_scores = iso_forest.fit_predict(data_scaled)"
   ]
  },
  {
   "cell_type": "code",
   "execution_count": null,
   "metadata": {},
   "outputs": [],
   "source": [
    "# Identify least similar providers (anomalies)\n",
    "data = data.copy()\n",
    "data.loc[:,\"Anomaly_Score\"] = anomaly_scores\n",
    "least_similar_providers = data[data[\"Anomaly_Score\"] == -1].head(3)\n",
    "print(\"Least Similar Providers:\")\n",
    "print(least_similar_providers[[\"Provider_Id\"]])"
   ]
  },
  {
   "cell_type": "markdown",
   "metadata": {},
   "source": [
    " Finding the 3 regions least like others\n"
   ]
  },
  {
   "cell_type": "code",
   "execution_count": 35,
   "metadata": {},
   "outputs": [],
   "source": [
    "# Define Features for Each Category\n",
    "inpatient_features = [\"Total_Discharges\", \"Average_Covered_Charges\", \"Average_Total_Payments_In\", \"Average_Medicare_Payments\"]\n",
    "\n",
    "outpatient_features = [\"Outpatient_Services\", \"Average_Estimated_Submitted_Charges\", \"Average_Total_Payments_Out\"]\n"
   ]
  },
  {
   "cell_type": "code",
   "execution_count": 36,
   "metadata": {},
   "outputs": [],
   "source": [
    "# Aggregate Data by Region\n",
    "df_inpatient_region = Medicare_Provider_Charge_Inpatient.groupby(\"Hospital_Referral_Region_HRR_Description_In\")[inpatient_features].mean().reset_index()\n",
    "\n",
    "df_outpatient_region = Medicare_Provider_Charge_Outpatient.groupby(\"Hospital_Referral_Region_HRR_Description_Out\")[outpatient_features].mean().reset_index()"
   ]
  },
  {
   "cell_type": "code",
   "execution_count": 37,
   "metadata": {},
   "outputs": [],
   "source": [
    "# Normalize Data\n",
    "scaler = StandardScaler()\n",
    "df_inpatient_scaled = scaler.fit_transform(df_inpatient_region[inpatient_features]) #Normalizing the numerical values\n",
    "df_outpatient_scaled = scaler.fit_transform(df_outpatient_region[outpatient_features]) "
   ]
  },
  {
   "cell_type": "code",
   "execution_count": 38,
   "metadata": {},
   "outputs": [],
   "source": [
    "# Apply Isolation Forest for Inpatient\n",
    "iso_forest_inpatient = IsolationForest(contamination=0.01, random_state=42)\n",
    "df_inpatient_region[\"Anomaly_Score\"] = iso_forest_inpatient.fit_predict(df_inpatient_scaled)\n",
    "\n",
    "# Apply Isolation Forest for Outpatient\n",
    "iso_forest_outpatient = IsolationForest(contamination=0.01, random_state=42)\n",
    "df_outpatient_region[\"Anomaly_Score\"] = iso_forest_outpatient.fit_predict(df_outpatient_scaled)"
   ]
  },
  {
   "cell_type": "code",
   "execution_count": null,
   "metadata": {},
   "outputs": [],
   "source": [
    "# Get the Three Least Similar Regions for Inpatient\n",
    "least_similar_inpatient_regions = df_inpatient_region[df_inpatient_region[\"Anomaly_Score\"] == -1].nsmallest(3, \"Anomaly_Score\")\n",
    "\n",
    "# Get the Three Least Similar Regions for Outpatient\n",
    "least_similar_outpatient_regions = df_outpatient_region[df_outpatient_region[\"Anomaly_Score\"] == -1].nsmallest(3, \"Anomaly_Score\")\n",
    "\n",
    "print(\"Three Regions Least Like Others (Inpatient):\")\n",
    "print(least_similar_inpatient_regions[[\"Hospital_Referral_Region_HRR_Description_In\"]])\n",
    "print(\"------------------------------------------------------\")\n",
    "print(\"Three Regions Least Like Others (Outpatient):\")\n",
    "print(least_similar_outpatient_regions[[\"Hospital_Referral_Region_HRR_Description_Out\"]])"
   ]
  },
  {
   "cell_type": "code",
   "execution_count": 40,
   "metadata": {},
   "outputs": [],
   "source": [
    "#-------------------------------------------------------------------------------------"
   ]
  },
  {
   "cell_type": "code",
   "execution_count": null,
   "metadata": {},
   "outputs": [],
   "source": [
    "Medicare_Provider_Charge_Inpatient.columns"
   ]
  },
  {
   "cell_type": "markdown",
   "metadata": {},
   "source": [
    "# least 3 provider ( second method ) \n",
    "\n",
    "find meaning for this part "
   ]
  },
  {
   "cell_type": "code",
   "execution_count": null,
   "metadata": {},
   "outputs": [],
   "source": [
    "Medicare_Provider_Charge_Inpatient.columns"
   ]
  },
  {
   "cell_type": "code",
   "execution_count": null,
   "metadata": {},
   "outputs": [],
   "source": []
  },
  {
   "cell_type": "code",
   "execution_count": 43,
   "metadata": {},
   "outputs": [],
   "source": [
    "from sklearn.preprocessing import StandardScaler\n",
    "from sklearn.decomposition import PCA\n",
    "from sklearn.cluster import KMeans\n",
    "\n",
    "\n",
    "# Select numerical features\n",
    "numerical_cols = [\n",
    "    \"Total_Discharges\", \"Average_Covered_Charges\", \"Average_Total_Payments_In\",\n",
    "    \"Average_Medicare_Payments\", \"claim_differnce\"\n",
    "]\n",
    "\n",
    "df_selected = Medicare_Provider_Charge_Inpatient[numerical_cols]\n",
    "\n",
    "\n",
    "# Fill missing values with median (robust against outliers)\n",
    "df_selected = df_selected.fillna(df_selected.median())\n",
    "\n",
    "# Standardize features\n",
    "scaler = StandardScaler()\n",
    "X_scaled = scaler.fit_transform(df_selected)\n"
   ]
  },
  {
   "cell_type": "code",
   "execution_count": null,
   "metadata": {},
   "outputs": [],
   "source": [
    "pca = PCA(n_components=3)  # Reduce to 3 dimensions\n",
    "X_pca = pca.fit_transform(X_scaled)\n",
    "\n",
    "print(f\"Explained Variance Ratio: {pca.explained_variance_ratio_}\")"
   ]
  },
  {
   "cell_type": "code",
   "execution_count": null,
   "metadata": {},
   "outputs": [],
   "source": [
    "kmeans = KMeans(n_clusters=5, random_state=42)\n",
    "Medicare_Provider_Charge_Inpatient[\"Cluster\"] = kmeans.fit_predict(X_pca)\n",
    "\n",
    "# Compute distance from cluster centers\n",
    "distances = kmeans.transform(X_pca).min(axis=1)\n",
    "Medicare_Provider_Charge_Inpatient[\"DistanceToCenter\"] = distances\n",
    "\n",
    "# Select 3 least similar providers\n",
    "least_similar_providers = Medicare_Provider_Charge_Inpatient.nlargest(3, \"DistanceToCenter\")\n",
    "\n",
    "print(\"Least Similar Providers:\")\n",
    "print(least_similar_providers[[\"Provider_Name_In\", \"DistanceToCenter\"]])\n"
   ]
  },
  {
   "cell_type": "markdown",
   "metadata": {},
   "source": [
    "# Region"
   ]
  },
  {
   "cell_type": "code",
   "execution_count": 46,
   "metadata": {},
   "outputs": [],
   "source": [
    "df_regions = Medicare_Provider_Charge_Inpatient.groupby(\"Hospital_Referral_Region_HRR_Description_In\")[numerical_cols].mean().reset_index()\n",
    "\n",
    "# Standardize the regional data\n",
    "X_regions_scaled = scaler.fit_transform(df_regions[numerical_cols])\n",
    "X_regions_pca = pca.fit_transform(X_regions_scaled)\n"
   ]
  },
  {
   "cell_type": "code",
   "execution_count": 47,
   "metadata": {},
   "outputs": [],
   "source": [
    "import os\n",
    "os.environ[\"OMP_NUM_THREADS\"] = \"2\""
   ]
  },
  {
   "cell_type": "code",
   "execution_count": null,
   "metadata": {},
   "outputs": [],
   "source": [
    "kmeans = KMeans(n_clusters=5, random_state=42)\n",
    "df_regions[\"Cluster\"] = kmeans.fit_predict(X_regions_pca)\n",
    "\n",
    "# Compute distance from cluster centers\n",
    "distances = kmeans.transform(X_regions_pca).min(axis=1)\n",
    "df_regions[\"DistanceToCenter\"] = distances\n",
    "\n",
    "# Select 3 least similar regions\n",
    "least_similar_regions = df_regions.nlargest(3, \"DistanceToCenter\")\n",
    "\n",
    "print(\"Least Similar Regions:\")\n",
    "print(least_similar_regions[[\"Hospital_Referral_Region_HRR_Description_In\", \"DistanceToCenter\"]])\n",
    "\n",
    "# The least similar regions are those with the highest DistanceToCenter, meaning they are farthest from their assigned cluster center."
   ]
  },
  {
   "cell_type": "code",
   "execution_count": null,
   "metadata": {},
   "outputs": [],
   "source": [
    "import matplotlib.pyplot as plt\n",
    "import seaborn as sns\n",
    "\n",
    "df_regions[\"Cluster\"] = kmeans.labels_\n",
    "\n",
    "# Boxplot to compare a key feature across clusters\n",
    "plt.figure(figsize=(12,6))\n",
    "sns.boxplot(x=\"Cluster\", y=\"Average_Covered_Charges\", data=df_regions)\n",
    "plt.title(\"Distribution of Covered Charges by Cluster\")\n",
    "plt.show()\n"
   ]
  },
  {
   "cell_type": "raw",
   "metadata": {
    "vscode": {
     "languageId": "raw"
    }
   },
   "source": [
    "OBSERVATION:\n",
    "Cluster 1 has the highest average covered charges with a wider spread and some extreme outliers above $100,000.\n",
    "Cluster 0 and Cluster 3 have lower median charges, with values mostly between $15,000 and $35,000.\n",
    "Cluster 2 and Cluster 4 fall in the mid-range but show slightly different spreads.\n",
    "Outliers (dots outside the whiskers) are visible in multiple clusters, indicating that some hospitals have exceptionally high charges compared to others in the same group.\n",
    "\n",
    "Interpretation:\n",
    "Cluster 1 likely represents high-cost hospitals with significantly higher covered charges.\n",
    "Clusters 0 and 3 may include lower-cost hospitals with consistent pricing.\n",
    "Clusters 2 and 4 show moderate variations, suggesting mixed pricing structures"
   ]
  },
  {
   "cell_type": "markdown",
   "metadata": {
    "vscode": {
     "languageId": "raw"
    }
   },
   "source": [
    "# PART 3"
   ]
  },
  {
   "cell_type": "markdown",
   "metadata": {},
   "source": [
    "Identify 10,000 Medicare patients who are involved in anomalous activities. "
   ]
  },
  {
   "cell_type": "code",
   "execution_count": null,
   "metadata": {},
   "outputs": [],
   "source": [
    "Patient_history_samp.head(2)"
   ]
  },
  {
   "cell_type": "code",
   "execution_count": null,
   "metadata": {},
   "outputs": [],
   "source": [
    "Transaction_coo.head(2)"
   ]
  },
  {
   "cell_type": "code",
   "execution_count": null,
   "metadata": {},
   "outputs": [],
   "source": [
    "Global_proc_id.head(2)"
   ]
  },
  {
   "cell_type": "code",
   "execution_count": null,
   "metadata": {},
   "outputs": [],
   "source": [
    "Medicare_Charge_Inpatient.head(1)"
   ]
  },
  {
   "cell_type": "code",
   "execution_count": 212,
   "metadata": {},
   "outputs": [
    {
     "data": {
      "text/html": [
       "<div>\n",
       "<style scoped>\n",
       "    .dataframe tbody tr th:only-of-type {\n",
       "        vertical-align: middle;\n",
       "    }\n",
       "\n",
       "    .dataframe tbody tr th {\n",
       "        vertical-align: top;\n",
       "    }\n",
       "\n",
       "    .dataframe thead th {\n",
       "        text-align: right;\n",
       "    }\n",
       "</style>\n",
       "<table border=\"1\" class=\"dataframe\">\n",
       "  <thead>\n",
       "    <tr style=\"text-align: right;\">\n",
       "      <th></th>\n",
       "      <th>DRG_Definition</th>\n",
       "      <th>Total_Discharges</th>\n",
       "      <th>Average_Covered_Charges</th>\n",
       "      <th>Average_Total_Payments</th>\n",
       "      <th>Average_Medicare_Payments</th>\n",
       "      <th>DRG_Codes</th>\n",
       "      <th>DRG_Description</th>\n",
       "    </tr>\n",
       "  </thead>\n",
       "  <tbody>\n",
       "    <tr>\n",
       "      <th>0</th>\n",
       "      <td>039 - EXTRACRANIAL PROCEDURES W/O CC/MCC</td>\n",
       "      <td>37861</td>\n",
       "      <td>29228.552734</td>\n",
       "      <td>6902.381348</td>\n",
       "      <td>5514.436035</td>\n",
       "      <td>39</td>\n",
       "      <td>EXTRACRANIAL PROCEDURES W/O CC/MCC</td>\n",
       "    </tr>\n",
       "    <tr>\n",
       "      <th>1</th>\n",
       "      <td>057 - DEGENERATIVE NERVOUS SYSTEM DISORDERS W/...</td>\n",
       "      <td>37927</td>\n",
       "      <td>23924.980469</td>\n",
       "      <td>6809.799316</td>\n",
       "      <td>5791.920410</td>\n",
       "      <td>57</td>\n",
       "      <td>DEGENERATIVE NERVOUS SYSTEM DISORDERS W/O MCC</td>\n",
       "    </tr>\n",
       "  </tbody>\n",
       "</table>\n",
       "</div>"
      ],
      "text/plain": [
       "                                      DRG_Definition  Total_Discharges  \\\n",
       "0           039 - EXTRACRANIAL PROCEDURES W/O CC/MCC             37861   \n",
       "1  057 - DEGENERATIVE NERVOUS SYSTEM DISORDERS W/...             37927   \n",
       "\n",
       "   Average_Covered_Charges  Average_Total_Payments  Average_Medicare_Payments  \\\n",
       "0             29228.552734             6902.381348                5514.436035   \n",
       "1             23924.980469             6809.799316                5791.920410   \n",
       "\n",
       "   DRG_Codes                                DRG_Description  \n",
       "0         39             EXTRACRANIAL PROCEDURES W/O CC/MCC  \n",
       "1         57  DEGENERATIVE NERVOUS SYSTEM DISORDERS W/O MCC  "
      ]
     },
     "execution_count": 212,
     "metadata": {},
     "output_type": "execute_result"
    }
   ],
   "source": [
    "Medicare_Charge_Inpatient[['DRG_Codes', 'DRG_Description']] = Medicare_Charge_Inpatient['DRG_Definition'].str.split(' - ', n=1, expand=True)\n",
    "Medicare_Charge_Inpatient['DRG_Codes'] = Medicare_Charge_Inpatient['DRG_Codes'].astype(int)\n",
    "Medicare_Charge_Inpatient.head(2)"
   ]
  },
  {
   "cell_type": "code",
   "execution_count": 213,
   "metadata": {},
   "outputs": [],
   "source": [
    "# Merging patient table and transaction table\n",
    "\n",
    "merge_table= pd.merge(Patient_history_samp,Transaction_coo,on='id',how=\"inner\")"
   ]
  },
  {
   "cell_type": "code",
   "execution_count": 214,
   "metadata": {},
   "outputs": [],
   "source": [
    "# merging these table with the global proc table\n",
    "\n",
    "merge_table2 = pd.merge(merge_table,Global_proc_id,on='global_proc_id',how='inner')"
   ]
  },
  {
   "cell_type": "code",
   "execution_count": 215,
   "metadata": {},
   "outputs": [],
   "source": [
    "# merging with medicare_charge_inpatient table\n",
    "\n",
    "df = pd.merge(merge_table2,Medicare_Charge_Inpatient,on=\"DRG_Codes\",how='inner')"
   ]
  },
  {
   "cell_type": "code",
   "execution_count": 216,
   "metadata": {},
   "outputs": [],
   "source": [
    "df.drop(columns={\"count\",\"S_No\",\"DRG_Definition\"},inplace = True)"
   ]
  },
  {
   "cell_type": "code",
   "execution_count": 228,
   "metadata": {},
   "outputs": [],
   "source": [
    "age_mapping = {'<65': 1, '65-74': 2, '75-84': 3, '85+': 4}\n",
    "income_mapping = {'<16000 ': 1, '16000-23999': 2, '24000-31999': 3, '32000-47999': 4,'48000+':5}\n",
    "gender_mapping = {'F':1,\",M\":2}"
   ]
  },
  {
   "cell_type": "code",
   "execution_count": 231,
   "metadata": {},
   "outputs": [],
   "source": [
    "df['Age_Group'] = df['age'].map(age_mapping)\n",
    "df['Income_Level'] = df['income'].map(income_mapping).fillna(1).astype(int)\n",
    "df['Gender_group'] = df['gender'].map(gender_mapping).fillna(1).astype(int)"
   ]
  },
  {
   "cell_type": "code",
   "execution_count": 232,
   "metadata": {},
   "outputs": [
    {
     "name": "stdout",
     "output_type": "stream",
     "text": [
      "<class 'pandas.core.frame.DataFrame'>\n",
      "RangeIndex: 1047605 entries, 0 to 1047604\n",
      "Data columns (total 15 columns):\n",
      " #   Column                     Non-Null Count    Dtype  \n",
      "---  ------                     --------------    -----  \n",
      " 0   id                         1047605 non-null  int64  \n",
      " 1   age                        1047605 non-null  object \n",
      " 2   gender                     1047605 non-null  object \n",
      " 3   income                     1047605 non-null  object \n",
      " 4   global_proc_id             1047605 non-null  int64  \n",
      " 5   DRG_Codes                  1047605 non-null  int64  \n",
      " 6   Total_Discharges           1047605 non-null  int64  \n",
      " 7   Average_Covered_Charges    1047605 non-null  float64\n",
      " 8   Average_Total_Payments     1047605 non-null  float64\n",
      " 9   Average_Medicare_Payments  1047605 non-null  float64\n",
      " 10  DRG_Description            1047605 non-null  object \n",
      " 11  Age_Group                  1047605 non-null  int64  \n",
      " 12  Income_Level               1047605 non-null  int32  \n",
      " 13  Anomaly_Score              1047605 non-null  int32  \n",
      " 14  Gender_group               1047605 non-null  int32  \n",
      "dtypes: float64(3), int32(3), int64(5), object(4)\n",
      "memory usage: 107.9+ MB\n"
     ]
    }
   ],
   "source": [
    "df.info()"
   ]
  },
  {
   "cell_type": "code",
   "execution_count": 233,
   "metadata": {},
   "outputs": [
    {
     "data": {
      "text/html": [
       "<div>\n",
       "<style scoped>\n",
       "    .dataframe tbody tr th:only-of-type {\n",
       "        vertical-align: middle;\n",
       "    }\n",
       "\n",
       "    .dataframe tbody tr th {\n",
       "        vertical-align: top;\n",
       "    }\n",
       "\n",
       "    .dataframe thead th {\n",
       "        text-align: right;\n",
       "    }\n",
       "</style>\n",
       "<table border=\"1\" class=\"dataframe\">\n",
       "  <thead>\n",
       "    <tr style=\"text-align: right;\">\n",
       "      <th></th>\n",
       "      <th>id</th>\n",
       "      <th>age</th>\n",
       "      <th>gender</th>\n",
       "      <th>income</th>\n",
       "      <th>global_proc_id</th>\n",
       "      <th>DRG_Codes</th>\n",
       "      <th>Total_Discharges</th>\n",
       "      <th>Average_Covered_Charges</th>\n",
       "      <th>Average_Total_Payments</th>\n",
       "      <th>Average_Medicare_Payments</th>\n",
       "      <th>DRG_Description</th>\n",
       "      <th>Age_Group</th>\n",
       "      <th>Income_Level</th>\n",
       "      <th>Anomaly_Score</th>\n",
       "      <th>Gender_group</th>\n",
       "    </tr>\n",
       "  </thead>\n",
       "  <tbody>\n",
       "    <tr>\n",
       "      <th>0</th>\n",
       "      <td>306535165</td>\n",
       "      <td>65-74</td>\n",
       "      <td>F</td>\n",
       "      <td>24000-31999</td>\n",
       "      <td>25</td>\n",
       "      <td>243</td>\n",
       "      <td>35115</td>\n",
       "      <td>67032.054688</td>\n",
       "      <td>18158.527344</td>\n",
       "      <td>16775.830078</td>\n",
       "      <td>PERMANENT CARDIAC PACEMAKER IMPLANT W CC</td>\n",
       "      <td>2</td>\n",
       "      <td>3</td>\n",
       "      <td>1</td>\n",
       "      <td>1</td>\n",
       "    </tr>\n",
       "  </tbody>\n",
       "</table>\n",
       "</div>"
      ],
      "text/plain": [
       "          id    age gender       income  global_proc_id  DRG_Codes  \\\n",
       "0  306535165  65-74      F  24000-31999              25        243   \n",
       "\n",
       "   Total_Discharges  Average_Covered_Charges  Average_Total_Payments  \\\n",
       "0             35115             67032.054688            18158.527344   \n",
       "\n",
       "   Average_Medicare_Payments                           DRG_Description  \\\n",
       "0               16775.830078  PERMANENT CARDIAC PACEMAKER IMPLANT W CC   \n",
       "\n",
       "   Age_Group  Income_Level  Anomaly_Score  Gender_group  \n",
       "0          2             3              1             1  "
      ]
     },
     "execution_count": 233,
     "metadata": {},
     "output_type": "execute_result"
    }
   ],
   "source": [
    "df.head(1)"
   ]
  },
  {
   "cell_type": "code",
   "execution_count": 263,
   "metadata": {},
   "outputs": [],
   "source": [
    "# Selecting the features to perform anomaly detection\n",
    "health_feature = [\"Age_Group\",\"Income_Level\",\"Gender_group\",\"DRG_Codes\",\"Total_Discharges\",\"Average_Covered_Charges\",\"Average_Total_Payments\",\"Average_Medicare_Payments\"]\n",
    "\n",
    "\n",
    "# Apply Isolation Forest for anomaly detection\n",
    "iso_forest = IsolationForest(contamination=\"auto\", random_state=42)  # 1% anomalies\n",
    "df['Anomaly_Score'] = iso_forest.fit_predict(df[health_feature])\n",
    "\n",
    "# 1 is non-anomalous\n",
    "# -1 is anomalous"
   ]
  },
  {
   "cell_type": "code",
   "execution_count": 264,
   "metadata": {},
   "outputs": [
    {
     "data": {
      "text/html": [
       "<div>\n",
       "<style scoped>\n",
       "    .dataframe tbody tr th:only-of-type {\n",
       "        vertical-align: middle;\n",
       "    }\n",
       "\n",
       "    .dataframe tbody tr th {\n",
       "        vertical-align: top;\n",
       "    }\n",
       "\n",
       "    .dataframe thead th {\n",
       "        text-align: right;\n",
       "    }\n",
       "</style>\n",
       "<table border=\"1\" class=\"dataframe\">\n",
       "  <thead>\n",
       "    <tr style=\"text-align: right;\">\n",
       "      <th></th>\n",
       "      <th>id</th>\n",
       "      <th>age</th>\n",
       "      <th>gender</th>\n",
       "      <th>income</th>\n",
       "      <th>global_proc_id</th>\n",
       "      <th>DRG_Codes</th>\n",
       "      <th>Total_Discharges</th>\n",
       "      <th>Average_Covered_Charges</th>\n",
       "      <th>Average_Total_Payments</th>\n",
       "      <th>Average_Medicare_Payments</th>\n",
       "      <th>DRG_Description</th>\n",
       "      <th>Age_Group</th>\n",
       "      <th>Income_Level</th>\n",
       "      <th>Anomaly_Score</th>\n",
       "      <th>Gender_group</th>\n",
       "    </tr>\n",
       "  </thead>\n",
       "  <tbody>\n",
       "    <tr>\n",
       "      <th>5</th>\n",
       "      <td>83686538</td>\n",
       "      <td>&lt;65</td>\n",
       "      <td>F</td>\n",
       "      <td>32000-47999</td>\n",
       "      <td>2</td>\n",
       "      <td>57</td>\n",
       "      <td>37927</td>\n",
       "      <td>23924.980469</td>\n",
       "      <td>6809.799316</td>\n",
       "      <td>5791.920410</td>\n",
       "      <td>DEGENERATIVE NERVOUS SYSTEM DISORDERS W/O MCC</td>\n",
       "      <td>1</td>\n",
       "      <td>4</td>\n",
       "      <td>-1</td>\n",
       "      <td>1</td>\n",
       "    </tr>\n",
       "    <tr>\n",
       "      <th>9</th>\n",
       "      <td>247750664</td>\n",
       "      <td>75-84</td>\n",
       "      <td>F</td>\n",
       "      <td>&lt;16000</td>\n",
       "      <td>22</td>\n",
       "      <td>207</td>\n",
       "      <td>33407</td>\n",
       "      <td>139651.562500</td>\n",
       "      <td>38473.890625</td>\n",
       "      <td>35916.062500</td>\n",
       "      <td>RESPIRATORY SYSTEM DIAGNOSIS W VENTILATOR SUPP...</td>\n",
       "      <td>3</td>\n",
       "      <td>1</td>\n",
       "      <td>-1</td>\n",
       "      <td>1</td>\n",
       "    </tr>\n",
       "    <tr>\n",
       "      <th>12</th>\n",
       "      <td>141100339</td>\n",
       "      <td>&lt;65</td>\n",
       "      <td>M</td>\n",
       "      <td>32000-47999</td>\n",
       "      <td>17</td>\n",
       "      <td>193</td>\n",
       "      <td>131396</td>\n",
       "      <td>37408.980469</td>\n",
       "      <td>9997.520508</td>\n",
       "      <td>8952.174805</td>\n",
       "      <td>SIMPLE PNEUMONIA &amp; PLEURISY W MCC</td>\n",
       "      <td>1</td>\n",
       "      <td>4</td>\n",
       "      <td>-1</td>\n",
       "      <td>1</td>\n",
       "    </tr>\n",
       "    <tr>\n",
       "      <th>20</th>\n",
       "      <td>769089007</td>\n",
       "      <td>75-84</td>\n",
       "      <td>M</td>\n",
       "      <td>32000-47999</td>\n",
       "      <td>1</td>\n",
       "      <td>39</td>\n",
       "      <td>37861</td>\n",
       "      <td>29228.552734</td>\n",
       "      <td>6902.381348</td>\n",
       "      <td>5514.436035</td>\n",
       "      <td>EXTRACRANIAL PROCEDURES W/O CC/MCC</td>\n",
       "      <td>3</td>\n",
       "      <td>4</td>\n",
       "      <td>-1</td>\n",
       "      <td>1</td>\n",
       "    </tr>\n",
       "    <tr>\n",
       "      <th>24</th>\n",
       "      <td>965505524</td>\n",
       "      <td>75-84</td>\n",
       "      <td>F</td>\n",
       "      <td>&lt;16000</td>\n",
       "      <td>17</td>\n",
       "      <td>193</td>\n",
       "      <td>131396</td>\n",
       "      <td>37408.980469</td>\n",
       "      <td>9997.520508</td>\n",
       "      <td>8952.174805</td>\n",
       "      <td>SIMPLE PNEUMONIA &amp; PLEURISY W MCC</td>\n",
       "      <td>3</td>\n",
       "      <td>1</td>\n",
       "      <td>-1</td>\n",
       "      <td>1</td>\n",
       "    </tr>\n",
       "    <tr>\n",
       "      <th>...</th>\n",
       "      <td>...</td>\n",
       "      <td>...</td>\n",
       "      <td>...</td>\n",
       "      <td>...</td>\n",
       "      <td>...</td>\n",
       "      <td>...</td>\n",
       "      <td>...</td>\n",
       "      <td>...</td>\n",
       "      <td>...</td>\n",
       "      <td>...</td>\n",
       "      <td>...</td>\n",
       "      <td>...</td>\n",
       "      <td>...</td>\n",
       "      <td>...</td>\n",
       "      <td>...</td>\n",
       "    </tr>\n",
       "    <tr>\n",
       "      <th>21353</th>\n",
       "      <td>635255801</td>\n",
       "      <td>85+</td>\n",
       "      <td>F</td>\n",
       "      <td>16000-23999</td>\n",
       "      <td>17</td>\n",
       "      <td>193</td>\n",
       "      <td>131396</td>\n",
       "      <td>37408.980469</td>\n",
       "      <td>9997.520508</td>\n",
       "      <td>8952.174805</td>\n",
       "      <td>SIMPLE PNEUMONIA &amp; PLEURISY W MCC</td>\n",
       "      <td>4</td>\n",
       "      <td>2</td>\n",
       "      <td>-1</td>\n",
       "      <td>1</td>\n",
       "    </tr>\n",
       "    <tr>\n",
       "      <th>21356</th>\n",
       "      <td>579948391</td>\n",
       "      <td>65-74</td>\n",
       "      <td>F</td>\n",
       "      <td>16000-23999</td>\n",
       "      <td>19</td>\n",
       "      <td>195</td>\n",
       "      <td>83703</td>\n",
       "      <td>18004.697266</td>\n",
       "      <td>4850.171875</td>\n",
       "      <td>3733.150879</td>\n",
       "      <td>SIMPLE PNEUMONIA &amp; PLEURISY W/O CC/MCC</td>\n",
       "      <td>2</td>\n",
       "      <td>2</td>\n",
       "      <td>-1</td>\n",
       "      <td>1</td>\n",
       "    </tr>\n",
       "    <tr>\n",
       "      <th>21359</th>\n",
       "      <td>537575236</td>\n",
       "      <td>65-74</td>\n",
       "      <td>F</td>\n",
       "      <td>32000-47999</td>\n",
       "      <td>28</td>\n",
       "      <td>247</td>\n",
       "      <td>109584</td>\n",
       "      <td>62020.847656</td>\n",
       "      <td>14300.149414</td>\n",
       "      <td>11823.961914</td>\n",
       "      <td>PERC CARDIOVASC PROC W DRUG-ELUTING STENT W/O MCC</td>\n",
       "      <td>2</td>\n",
       "      <td>4</td>\n",
       "      <td>-1</td>\n",
       "      <td>1</td>\n",
       "    </tr>\n",
       "    <tr>\n",
       "      <th>21361</th>\n",
       "      <td>944584586</td>\n",
       "      <td>65-74</td>\n",
       "      <td>F</td>\n",
       "      <td>&lt;16000</td>\n",
       "      <td>27</td>\n",
       "      <td>246</td>\n",
       "      <td>30459</td>\n",
       "      <td>93338.718750</td>\n",
       "      <td>23276.484375</td>\n",
       "      <td>21021.707031</td>\n",
       "      <td>PERC CARDIOVASC PROC W DRUG-ELUTING STENT W MC...</td>\n",
       "      <td>2</td>\n",
       "      <td>1</td>\n",
       "      <td>-1</td>\n",
       "      <td>1</td>\n",
       "    </tr>\n",
       "    <tr>\n",
       "      <th>21362</th>\n",
       "      <td>490084027</td>\n",
       "      <td>&lt;65</td>\n",
       "      <td>F</td>\n",
       "      <td>&lt;16000</td>\n",
       "      <td>25</td>\n",
       "      <td>243</td>\n",
       "      <td>35115</td>\n",
       "      <td>67032.054688</td>\n",
       "      <td>18158.527344</td>\n",
       "      <td>16775.830078</td>\n",
       "      <td>PERMANENT CARDIAC PACEMAKER IMPLANT W CC</td>\n",
       "      <td>1</td>\n",
       "      <td>1</td>\n",
       "      <td>-1</td>\n",
       "      <td>1</td>\n",
       "    </tr>\n",
       "  </tbody>\n",
       "</table>\n",
       "<p>10000 rows × 15 columns</p>\n",
       "</div>"
      ],
      "text/plain": [
       "              id    age gender       income  global_proc_id  DRG_Codes  \\\n",
       "5       83686538    <65      F  32000-47999               2         57   \n",
       "9      247750664  75-84      F       <16000              22        207   \n",
       "12     141100339    <65      M  32000-47999              17        193   \n",
       "20     769089007  75-84      M  32000-47999               1         39   \n",
       "24     965505524  75-84      F       <16000              17        193   \n",
       "...          ...    ...    ...          ...             ...        ...   \n",
       "21353  635255801    85+      F  16000-23999              17        193   \n",
       "21356  579948391  65-74      F  16000-23999              19        195   \n",
       "21359  537575236  65-74      F  32000-47999              28        247   \n",
       "21361  944584586  65-74      F       <16000              27        246   \n",
       "21362  490084027    <65      F       <16000              25        243   \n",
       "\n",
       "       Total_Discharges  Average_Covered_Charges  Average_Total_Payments  \\\n",
       "5                 37927             23924.980469             6809.799316   \n",
       "9                 33407            139651.562500            38473.890625   \n",
       "12               131396             37408.980469             9997.520508   \n",
       "20                37861             29228.552734             6902.381348   \n",
       "24               131396             37408.980469             9997.520508   \n",
       "...                 ...                      ...                     ...   \n",
       "21353            131396             37408.980469             9997.520508   \n",
       "21356             83703             18004.697266             4850.171875   \n",
       "21359            109584             62020.847656            14300.149414   \n",
       "21361             30459             93338.718750            23276.484375   \n",
       "21362             35115             67032.054688            18158.527344   \n",
       "\n",
       "       Average_Medicare_Payments  \\\n",
       "5                    5791.920410   \n",
       "9                   35916.062500   \n",
       "12                   8952.174805   \n",
       "20                   5514.436035   \n",
       "24                   8952.174805   \n",
       "...                          ...   \n",
       "21353                8952.174805   \n",
       "21356                3733.150879   \n",
       "21359               11823.961914   \n",
       "21361               21021.707031   \n",
       "21362               16775.830078   \n",
       "\n",
       "                                         DRG_Description  Age_Group  \\\n",
       "5          DEGENERATIVE NERVOUS SYSTEM DISORDERS W/O MCC          1   \n",
       "9      RESPIRATORY SYSTEM DIAGNOSIS W VENTILATOR SUPP...          3   \n",
       "12                     SIMPLE PNEUMONIA & PLEURISY W MCC          1   \n",
       "20                    EXTRACRANIAL PROCEDURES W/O CC/MCC          3   \n",
       "24                     SIMPLE PNEUMONIA & PLEURISY W MCC          3   \n",
       "...                                                  ...        ...   \n",
       "21353                  SIMPLE PNEUMONIA & PLEURISY W MCC          4   \n",
       "21356             SIMPLE PNEUMONIA & PLEURISY W/O CC/MCC          2   \n",
       "21359  PERC CARDIOVASC PROC W DRUG-ELUTING STENT W/O MCC          2   \n",
       "21361  PERC CARDIOVASC PROC W DRUG-ELUTING STENT W MC...          2   \n",
       "21362           PERMANENT CARDIAC PACEMAKER IMPLANT W CC          1   \n",
       "\n",
       "       Income_Level  Anomaly_Score  Gender_group  \n",
       "5                 4             -1             1  \n",
       "9                 1             -1             1  \n",
       "12                4             -1             1  \n",
       "20                4             -1             1  \n",
       "24                1             -1             1  \n",
       "...             ...            ...           ...  \n",
       "21353             2             -1             1  \n",
       "21356             2             -1             1  \n",
       "21359             4             -1             1  \n",
       "21361             1             -1             1  \n",
       "21362             1             -1             1  \n",
       "\n",
       "[10000 rows x 15 columns]"
      ]
     },
     "execution_count": 264,
     "metadata": {},
     "output_type": "execute_result"
    }
   ],
   "source": [
    "Anomalous_Patients = df[df[\"Anomaly_Score\"]==-1].nsmallest(10000,'Anomaly_Score')\n",
    "Anomalous_Patients"
   ]
  },
  {
   "cell_type": "code",
   "execution_count": 266,
   "metadata": {},
   "outputs": [],
   "source": [
    "# ---------------------------visual for ppt=------------------------------"
   ]
  },
  {
   "cell_type": "code",
   "execution_count": 289,
   "metadata": {},
   "outputs": [
    {
     "data": {
      "image/png": "[encoded data removed]",
      "text/plain": [
       "<Figure size 800x500 with 1 Axes>"
      ]
     },
     "metadata": {},
     "output_type": "display_data"
    }
   ],
   "source": [
    "# Bar Chart - Anomalies by Age Group\n",
    "\n",
    "# Filter anomalies\n",
    "age_group_counts = Anomalous_Patients['age'].value_counts()\n",
    "\n",
    "# Define colors for bars\n",
    "colors = [\"plum\", \"orchid\", \"mediumorchid\", \"darkorchid\", \"purple\"]\n",
    "\n",
    "plt.figure(figsize=(8, 5))  # Slightly larger for better visibility\n",
    "age_group_counts.plot(kind='bar', color=colors, edgecolor='black')\n",
    "\n",
    "plt.title(\"Anomalies by Age Group\", fontsize=14)\n",
    "plt.xlabel(\"Age Group\", fontsize=10)\n",
    "plt.ylabel(\"Number of Anomalous Patients\", fontsize=10)\n",
    "plt.xticks(rotation=45, fontsize=10)\n",
    "plt.grid(axis='y', linestyle='--', alpha=0.2)  # Light grid for clarity\n",
    "\n",
    "plt.show()\n"
   ]
  },
  {
   "cell_type": "code",
   "execution_count": 292,
   "metadata": {},
   "outputs": [
    {
     "data": {
      "image/png": "[encoded data removed]",
      "text/plain": [
       "<Figure size 600x600 with 1 Axes>"
      ]
     },
     "metadata": {},
     "output_type": "display_data"
    }
   ],
   "source": [
    "# Count anomalies by gender\n",
    "gender_counts = Anomalous_Patients['gender'].value_counts()\n",
    "\n",
    "# Define colors\n",
    "colors = [\"plum\", \"skyblue\"]  # Adjust as needed for better contrast\n",
    "\n",
    "plt.figure(figsize=(6, 6))\n",
    "plt.pie(gender_counts, \n",
    "        labels=gender_counts.index, \n",
    "        autopct='%1.1f%%', \n",
    "        startangle=140, \n",
    "        colors=colors, \n",
    "        shadow=True, \n",
    "        wedgeprops={'edgecolor': 'black'})  # Adds black edge for clarity\n",
    "\n",
    "plt.title(\"Anomaly Distribution by Gender\")\n",
    "plt.show()\n"
   ]
  },
  {
   "cell_type": "code",
   "execution_count": 312,
   "metadata": {},
   "outputs": [
    {
     "data": {
      "image/png": "[encoded data removed]",
      "text/plain": [
       "<Figure size 1200x600 with 1 Axes>"
      ]
     },
     "metadata": {},
     "output_type": "display_data"
    }
   ],
   "source": [
    "plt.figure(figsize=(12, 6))\n",
    "sns.scatterplot(\n",
    "    x=df['Average_Covered_Charges'], \n",
    "    y=df['Average_Total_Payments'], \n",
    "    hue=df['Anomaly_Score'], \n",
    "    palette={1: \"lightblue\", -1: \"darkred\"}\n",
    ")\n",
    "plt.title(\"Anomalies in Medicare Claims\", fontweight='bold')\n",
    "plt.xlabel(\"Average Covered Charges ($)\")\n",
    "plt.ylabel(\"Average Total Payments ($)\")\n",
    "plt.legend(title=\"Anomaly Score\", loc=\"upper right\")  \n",
    "plt.show()\n"
   ]
  },
  {
   "cell_type": "code",
   "execution_count": 303,
   "metadata": {},
   "outputs": [
    {
     "data": {
      "image/png": "[encoded data removed]",
      "text/plain": [
       "<Figure size 800x500 with 1 Axes>"
      ]
     },
     "metadata": {},
     "output_type": "display_data"
    }
   ],
   "source": [
    "# Bar Chart - Anomalies by Procedure\n",
    "\n",
    "# Filter anomalies\n",
    "procedure_counts = Anomalous_Patients['DRG_Description'].value_counts().head(10)  # Top 10 procedures\n",
    "\n",
    "plt.figure(figsize=(8, 5))\n",
    "procedure_counts.plot(kind='barh', color = \"mediumpurple\", edgecolor='black')  # Change color here\n",
    "\n",
    "plt.title(\"Anomalies by Medical Procedure\", fontsize=14, fontweight='bold')\n",
    "plt.xlabel(\"Number of Anomalies\", fontsize=12)\n",
    "plt.ylabel(\"Procedure Type\", fontsize=12)\n",
    "plt.gca().invert_yaxis()  # Flip chart for better readability\n",
    "plt.grid(axis='x', linestyle='--', alpha=0.2)\n",
    "\n",
    "plt.show()\n"
   ]
  },
  {
   "cell_type": "code",
   "execution_count": 311,
   "metadata": {},
   "outputs": [
    {
     "data": {
      "image/png": "[encoded data removed]",
      "text/plain": [
       "<Figure size 1200x600 with 2 Axes>"
      ]
     },
     "metadata": {},
     "output_type": "display_data"
    }
   ],
   "source": [
    "# Income Level vs Age Group for Anomalies\n",
    "plt.figure(figsize=(12, 6))\n",
    "# Pivot table for heatmap\n",
    "heatmap_data = Anomalous_Patients.pivot_table(index=\"age\", columns=\"income\", aggfunc=\"size\", fill_value=0)\n",
    "sns.heatmap(heatmap_data, cmap=\"Purples\", annot=True, fmt=\"d\", linewidths=0.5, cbar=True)\n",
    "plt.xlabel(\"Income Level\")\n",
    "plt.ylabel(\"Age Group\")\n",
    "plt.title(\"Anomalous Patients by Age Group & Income Level\")\n",
    "plt.xticks(rotation=45)\n",
    "plt.show()"
   ]
  },
  {
   "cell_type": "code",
   "execution_count": null,
   "metadata": {},
   "outputs": [],
   "source": []
  },
  {
   "cell_type": "code",
   "execution_count": 320,
   "metadata": {},
   "outputs": [
    {
     "data": {
      "text/html": [
       "<div>\n",
       "<style scoped>\n",
       "    .dataframe tbody tr th:only-of-type {\n",
       "        vertical-align: middle;\n",
       "    }\n",
       "\n",
       "    .dataframe tbody tr th {\n",
       "        vertical-align: top;\n",
       "    }\n",
       "\n",
       "    .dataframe thead th {\n",
       "        text-align: right;\n",
       "    }\n",
       "</style>\n",
       "<table border=\"1\" class=\"dataframe\">\n",
       "  <thead>\n",
       "    <tr style=\"text-align: right;\">\n",
       "      <th></th>\n",
       "      <th>DRG_Definition</th>\n",
       "      <th>Provider_Id</th>\n",
       "      <th>Provider_Name</th>\n",
       "      <th>Provider_Street_Address</th>\n",
       "      <th>Provider_City</th>\n",
       "      <th>Provider_State</th>\n",
       "      <th>Provider_Zip_Code</th>\n",
       "      <th>Hospital_Referral_Region_HRR_Description</th>\n",
       "      <th>Total_Discharges</th>\n",
       "      <th>Average_Covered_Charges</th>\n",
       "      <th>Average_Total_Payments</th>\n",
       "      <th>Average_Medicare_Payments</th>\n",
       "    </tr>\n",
       "  </thead>\n",
       "  <tbody>\n",
       "    <tr>\n",
       "      <th>0</th>\n",
       "      <td>039 - EXTRACRANIAL PROCEDURES W/O CC/MCC</td>\n",
       "      <td>10001</td>\n",
       "      <td>SOUTHEAST ALABAMA MEDICAL CENTER</td>\n",
       "      <td>1108 ROSS CLARK CIRCLE</td>\n",
       "      <td>DOTHAN</td>\n",
       "      <td>AL</td>\n",
       "      <td>36301</td>\n",
       "      <td>AL - Dothan</td>\n",
       "      <td>91</td>\n",
       "      <td>32963.078125</td>\n",
       "      <td>5777.241699</td>\n",
       "      <td>4763.736328</td>\n",
       "    </tr>\n",
       "  </tbody>\n",
       "</table>\n",
       "</div>"
      ],
      "text/plain": [
       "                             DRG_Definition  Provider_Id  \\\n",
       "0  039 - EXTRACRANIAL PROCEDURES W/O CC/MCC        10001   \n",
       "\n",
       "                      Provider_Name Provider_Street_Address Provider_City  \\\n",
       "0  SOUTHEAST ALABAMA MEDICAL CENTER  1108 ROSS CLARK CIRCLE        DOTHAN   \n",
       "\n",
       "  Provider_State  Provider_Zip_Code Hospital_Referral_Region_HRR_Description  \\\n",
       "0             AL              36301                              AL - Dothan   \n",
       "\n",
       "   Total_Discharges  Average_Covered_Charges  Average_Total_Payments  \\\n",
       "0                91             32963.078125             5777.241699   \n",
       "\n",
       "   Average_Medicare_Payments  \n",
       "0                4763.736328  "
      ]
     },
     "execution_count": 320,
     "metadata": {},
     "output_type": "execute_result"
    }
   ],
   "source": [
    "Medicare_Provider_Charge_Inpatient.head(1)"
   ]
  },
  {
   "cell_type": "code",
   "execution_count": 321,
   "metadata": {},
   "outputs": [
    {
     "data": {
      "text/html": [
       "<div>\n",
       "<style scoped>\n",
       "    .dataframe tbody tr th:only-of-type {\n",
       "        vertical-align: middle;\n",
       "    }\n",
       "\n",
       "    .dataframe tbody tr th {\n",
       "        vertical-align: top;\n",
       "    }\n",
       "\n",
       "    .dataframe thead th {\n",
       "        text-align: right;\n",
       "    }\n",
       "</style>\n",
       "<table border=\"1\" class=\"dataframe\">\n",
       "  <thead>\n",
       "    <tr style=\"text-align: right;\">\n",
       "      <th></th>\n",
       "      <th>APC</th>\n",
       "      <th>Provider_Id</th>\n",
       "      <th>Provider_Name</th>\n",
       "      <th>Provider_Street_Address</th>\n",
       "      <th>Provider_City</th>\n",
       "      <th>Provider_State</th>\n",
       "      <th>Provider_Zip_Code</th>\n",
       "      <th>Hospital_Referral_Region_HRR_Description</th>\n",
       "      <th>Outpatient_Services</th>\n",
       "      <th>Average_Estimated_Submitted_Charges</th>\n",
       "      <th>Average_Total_Payments</th>\n",
       "    </tr>\n",
       "  </thead>\n",
       "  <tbody>\n",
       "    <tr>\n",
       "      <th>0</th>\n",
       "      <td>0012 - Level I Debridement &amp; Destruction</td>\n",
       "      <td>10029</td>\n",
       "      <td>EAST ALABAMA MEDICAL CENTER AND SNF</td>\n",
       "      <td>2000 PEPPERELL PARKWAY</td>\n",
       "      <td>OPELIKA</td>\n",
       "      <td>AL</td>\n",
       "      <td>36801</td>\n",
       "      <td>AL - Birmingham</td>\n",
       "      <td>23</td>\n",
       "      <td>78.08696</td>\n",
       "      <td>21.910435</td>\n",
       "    </tr>\n",
       "  </tbody>\n",
       "</table>\n",
       "</div>"
      ],
      "text/plain": [
       "                                        APC  Provider_Id  \\\n",
       "0  0012 - Level I Debridement & Destruction        10029   \n",
       "\n",
       "                         Provider_Name Provider_Street_Address Provider_City  \\\n",
       "0  EAST ALABAMA MEDICAL CENTER AND SNF  2000 PEPPERELL PARKWAY       OPELIKA   \n",
       "\n",
       "  Provider_State  Provider_Zip_Code Hospital_Referral_Region_HRR_Description  \\\n",
       "0             AL              36801                          AL - Birmingham   \n",
       "\n",
       "   Outpatient_Services  Average_Estimated_Submitted_Charges  \\\n",
       "0                   23                             78.08696   \n",
       "\n",
       "   Average_Total_Payments  \n",
       "0               21.910435  "
      ]
     },
     "execution_count": 321,
     "metadata": {},
     "output_type": "execute_result"
    }
   ],
   "source": [
    "Medicare_Provider_Charge_Outpatient.head(1)"
   ]
  },
  {
   "cell_type": "code",
   "execution_count": null,
   "metadata": {},
   "outputs": [],
   "source": []
  },
  {
   "cell_type": "code",
   "execution_count": null,
   "metadata": {},
   "outputs": [],
   "source": []
  },
  {
   "cell_type": "code",
   "execution_count": null,
   "metadata": {},
   "outputs": [],
   "source": []
  },
  {
   "cell_type": "markdown",
   "metadata": {},
   "source": [
    "### **🔍 Predictive Analytics Problem Statements (Healthcare & Medicare Fraud)**\n",
    "Since you are working with **Medicare payment data**, you can explore several predictive analytics problems. Here are some problem statements:\n",
    "\n",
    "---\n",
    "\n",
    "### **1️⃣ Fraud Detection in Medicare Claims**  \n",
    "**Problem Statement:**  \n",
    "Predict whether a **Medicare claim** is fraudulent based on billing patterns, claim amounts, and provider history.  \n",
    "**Model:** Classification (Logistic Regression, Random Forest, XGBoost, Isolation Forest for anomalies)  \n",
    "**Dataset Features:**  \n",
    "- Provider ID  \n",
    "- Procedure Type  \n",
    "- Total Charges vs. Medicare Payments  \n",
    "- Frequency of Claims by Provider  \n",
    "- Outlier Detection in Billing  \n",
    "\n",
    "---\n",
    "\n",
    "### **2️⃣ Predicting Overpriced Procedures**  \n",
    "**Problem Statement:**  \n",
    "Predict if a hospital **overcharges for a procedure** compared to industry standards.  \n",
    "**Model:** Regression (Linear Regression, XGBoost, Random Forest)  \n",
    "**Dataset Features:**  \n",
    "- **Average Covered Charges** (Cost to patient)  \n",
    "- **Average Medicare Payments** (Actual reimbursement)  \n",
    "- **Total Discharges** (Hospital workload)  \n",
    "- **Geographical Impact** (Region-wise variations)  \n",
    "\n",
    "---\n",
    "\n",
    "### **3️⃣ Identifying Patients at Risk of Readmission**  \n",
    "**Problem Statement:**  \n",
    "Predict whether a **Medicare patient** will be readmitted within 30 days after discharge.  \n",
    "**Model:** Classification (Logistic Regression, Random Forest, Neural Networks)  \n",
    "**Dataset Features:**  \n",
    "- Diagnosis & Procedure Codes  \n",
    "- Total Charges & Payments  \n",
    "- Previous Readmission History  \n",
    "- Length of Stay  \n",
    "- Patient Age & Health Conditions  \n",
    "\n",
    "---\n",
    "\n",
    "### **4️⃣ Predicting Patient’s Length of Stay**  \n",
    "**Problem Statement:**  \n",
    "Estimate the **number of days** a patient will stay in a hospital based on their condition.  \n",
    "**Model:** Regression (Random Forest, Decision Trees, XGBoost)  \n",
    "**Dataset Features:**  \n",
    "- Admission Type (Emergency, Elective)  \n",
    "- Diagnosis & Procedures  \n",
    "- Past Medical History  \n",
    "- Insurance Coverage  \n",
    "\n",
    "---\n",
    "\n",
    "### **5️⃣ Predicting Mortality Rate Based on Hospital Data**  \n",
    "**Problem Statement:**  \n",
    "Predict the probability of **patient mortality** based on hospital stay, treatment, and payments.  \n",
    "**Model:** Classification (Random Forest, Neural Networks)  \n",
    "**Dataset Features:**  \n",
    "- Age & Comorbidities  \n",
    "- Procedure Type  \n",
    "- Length of Hospital Stay  \n",
    "- ICU Admission  \n",
    "\n",
    "---\n",
    "\n",
    "### **📌 Would You Like to Build One?**  \n",
    "I can help you:  \n",
    "✅ **Choose the best problem** for your dataset.  \n",
    "✅ **Train a model** using ML algorithms.  \n",
    "✅ **Deploy the model** using **Streamlit** for real-time predictions.  \n",
    "\n",
    "Which problem do you want to solve? 🚀"
   ]
  },
  {
   "cell_type": "code",
   "execution_count": null,
   "metadata": {},
   "outputs": [],
   "source": []
  },
  {
   "cell_type": "markdown",
   "metadata": {},
   "source": [
    "# Fraud Detection in Medicare Claims\n",
    "(Identify whether a Medicare claim is fraudulent based on provider billing patterns.)"
   ]
  },
  {
   "cell_type": "code",
   "execution_count": null,
   "metadata": {},
   "outputs": [],
   "source": []
  },
  {
   "cell_type": "code",
   "execution_count": 50,
   "metadata": {},
   "outputs": [],
   "source": [
    "# Feature Engineering\n",
    "Medicare_Provider_Charge_Inpatient[\"Overcharging_Ratio\"] = Medicare_Provider_Charge_Inpatient[\"Average_Covered_Charges\"] / Medicare_Provider_Charge_Inpatient[\"Average_Total_Payments_In\"]\n",
    "\n",
    "Medicare_Provider_Charge_Inpatient[\"Claim_Difference\"] = Medicare_Provider_Charge_Inpatient[\"Average_Covered_Charges\"] - Medicare_Provider_Charge_Inpatient[\"Average_Total_Payments_In\"]"
   ]
  },
  {
   "cell_type": "code",
   "execution_count": null,
   "metadata": {},
   "outputs": [],
   "source": [
    "Medicare_Provider_Charge_Inpatient"
   ]
  },
  {
   "cell_type": "code",
   "execution_count": null,
   "metadata": {},
   "outputs": [],
   "source": []
  },
  {
   "cell_type": "code",
   "execution_count": null,
   "metadata": {},
   "outputs": [],
   "source": [
    "# Detecting Anomalies using Isolation Forest\n",
    "iso_forest = IsolationForest(n_estimators=100, contamination=0.05, random_state=42)\n",
    "Medicare_Provider_Charge_Inpatient[\"Anomaly_Score\"] = iso_forest.fit_predict(Medicare_Provider_Charge_Inpatient[[\"Overcharging_Ratio\", \"Claim_Difference\"]])"
   ]
  },
  {
   "cell_type": "code",
   "execution_count": 54,
   "metadata": {},
   "outputs": [],
   "source": [
    "# Mapping -1 as Anomalous (Potential Fraud), 1 as Normal\n",
    "Medicare_Provider_Charge_Inpatient[\"Fraud_Label\"] = Medicare_Provider_Charge_Inpatient[\"Anomaly_Score\"].map({-1: 1, 1: 0})"
   ]
  },
  {
   "cell_type": "code",
   "execution_count": null,
   "metadata": {},
   "outputs": [],
   "source": [
    "# Train Fraud Detection Model (If labels exist)\n",
    "if \"Fraud_Label\" in Medicare_Provider_Charge_Inpatient.columns:\n",
    "    X = Medicare_Provider_Charge_Inpatient[[\"Overcharging_Ratio\", \"Claim_Difference\"]]\n",
    "    y = Medicare_Provider_Charge_Inpatient[\"Fraud_Label\"]\n",
    "\n",
    "    X_train, X_test, y_train, y_test = train_test_split(X, y, test_size=0.2, random_state=42)\n",
    "\n",
    "    rf_model = RandomForestClassifier(n_estimators=100, random_state=42)\n",
    "    rf_model.fit(X_train, y_train)\n",
    "\n",
    "    y_pred = rf_model.predict(X_test)\n",
    "\n",
    "    print(\"Model Accuracy:\", accuracy_score(y_test, y_pred))\n",
    "    print(classification_report(y_test, y_pred))"
   ]
  },
  {
   "cell_type": "code",
   "execution_count": null,
   "metadata": {},
   "outputs": [],
   "source": [
    "X_train.tail(20)"
   ]
  },
  {
   "cell_type": "code",
   "execution_count": 58,
   "metadata": {},
   "outputs": [],
   "source": [
    "# Creating a pickle file\n",
    "import pickle\n",
    "picked_out = open(\"Classifier.pkl\",\"wb\")\n",
    "pickle.dump(rf_model,picked_out)\n",
    "picked_out.close()"
   ]
  },
  {
   "cell_type": "code",
   "execution_count": null,
   "metadata": {},
   "outputs": [],
   "source": []
  }
 ],
 "metadata": {
  "kernelspec": {
   "display_name": "base",
   "language": "python",
   "name": "python3"
  },
  "language_info": {
   "codemirror_mode": {
    "name": "ipython",
    "version": 3
   },
   "file_extension": ".py",
   "mimetype": "text/x-python",
   "name": "python",
   "nbconvert_exporter": "python",
   "pygments_lexer": "ipython3",
   "version": "3.12.7"
  }
 },
 "nbformat": 4,
 "nbformat_minor": 2
}
